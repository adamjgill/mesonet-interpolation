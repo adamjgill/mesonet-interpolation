{
 "cells": [
  {
   "cell_type": "markdown",
   "metadata": {},
   "source": [
    "Perform blocks in parallel:\n",
    "\n",
    "    for site in sites:\n",
    "        Download 5-minute data    \n",
    "        Append data to regional dataframe\n",
    "    With regional dataframe:\n",
    "        Calculate sea-level-normalized temperature for each site\n",
    "        Write sea-level-normalized temperature to dataframe\n",
    "\n",
    "    Download elevation data\n",
    "    With elevation data:\n",
    "        With rasterio, load into raster\n",
    "        Downscale as necessary\n",
    "    \n",
    "    Download RAP data (optional)\n",
    "\n",
    "\n",
    "With elevation numpy array:  \n",
    "    Create new np array with the same dimensions as the elevation data  \n",
    "    Use a linear (or other) interpolation method on sea-level-normalized temperature at each pixel  \n",
    "    Optionally correct/weight points far away from sensors with sea-level-normalized RAP data  \n",
    "    Print numpy array to raster output (optional for debugging)  \n",
    "    numpy array calculation; use sea-level temperature and altitude arrays to determine surface temperature at each pixel\n",
    "    Print temperature array to raster output (final output)  \n",
    "    Print an uncertainty array  \n",
    "    Upload outputs to S3  \n",
    "  \n",
    "    \n",
    "    \n",
    "  "
   ]
  },
  {
   "cell_type": "code",
   "execution_count": 1,
   "metadata": {},
   "outputs": [],
   "source": [
    "import json\n",
    "import urllib\n",
    "\n",
    "import metpy.calc\n",
    "import numpy as np\n",
    "import pandas as pd\n",
    "import pint\n",
    "import scipy.interpolate\n",
    "\n",
    "from metpy.units import units\n",
    "import rasterio\n",
    "\n",
    "def make_item(json):\n",
    "    '''\n",
    "    Takes a json object and creates an items' dataframe\n",
    "    '''\n",
    "    df = pd.DataFrame(columns=[\"siteName\", \"siteLat\", \"siteLon\", \"siteAltitudeM\", \"temperature\", \"potential_temperature\"])\n",
    "    for site in json:\n",
    "        if \"temperature\" in json[site]:\n",
    "            df = df.append({\"siteName\": site, \n",
    "                            \"siteLat\": 44.2706,\n",
    "                            \"siteLon\": -71.3033,\n",
    "                            \"siteAltitudeM\": 999 * units.meters, \n",
    "                            \"temperature\": float(json[site][\"temperature\"]) * units.degF,\n",
    "                            \"potential_temperature\": units.degF\n",
    "                           }, \n",
    "                           ignore_index=True)\n",
    "    return df\n",
    "\n",
    "def get_potential_temperature(df):\n",
    "    for i, row in df.iterrows():\n",
    "        if \"pressure\" not in row:\n",
    "            pressure = metpy.calc.height_to_pressure_std(row[\"siteAltitudeM\"])\n",
    "        else:\n",
    "            pressure = row[\"pressure\"]\n",
    "            \n",
    "        if \"dewpoint\" in row:\n",
    "            # calculate equivalent potential temperature\n",
    "            potential_temperature = metpy.calc.equivalent_potential_temperature(pressure, row[\"temperature\"], row[\"dewpoint\"])\n",
    "        else:\n",
    "            # calculate potential temperature\n",
    "\n",
    "            potential_temperature = metpy.calc.potential_temperature(pressure, row[\"temperature\"])\n",
    "        df.at[i,'potential_temperature'] = potential_temperature.to(units.degF)\n",
    "        \n",
    "            \n",
    "# Should be as simple as pd.read_json once we figure out the callback issue\n",
    "#pd.read_json('http://xmountwashington.appspot.com/mmNew.php')"
   ]
  },
  {
   "cell_type": "code",
   "execution_count": 2,
   "metadata": {},
   "outputs": [],
   "source": [
    "import os\n",
    "import urllib.request\n",
    "import zipfile\n",
    "\n",
    "def download_file(url, target, clobber=False):\n",
    "    # TODO; move this to an S3 call\n",
    "    make_dirs_if_no_exists(target)\n",
    "    print(\"Downloading file %s\" % url)\n",
    "    if os.path.exists(target) and not clobber:\n",
    "        print(\"Path %s already exists; using previoiusly downloaded file.\" % target)\n",
    "        return False\n",
    "    urllib.request.urlretrieve(url, target)  \n",
    "    return True\n",
    "\n",
    "        \n",
    "def extract_file(source, target, delete_source=False):\n",
    "    make_dirs_if_no_exists(target)\n",
    "    print(\"Unzipping file %s to %s.\" % (source, target))\n",
    "    with zipfile.ZipFile(source,\"r\") as zip_ref:\n",
    "        zip_ref.extractall(target)\n",
    "    \n",
    "\n",
    "def make_dirs_if_no_exists(dirname):\n",
    "    if not os.path.exists(os.path.dirname(dirname)):\n",
    "        print(\"Path %s does not exist.  Attempting to make it now.\" % os.path.dirname(dirname))\n",
    "        os.makedirs(os.path.dirname(dirname))"
   ]
  },
  {
   "cell_type": "code",
   "execution_count": 3,
   "metadata": {},
   "outputs": [],
   "source": [
    "# Configuration\n",
    "import os\n",
    "cwd = os.getcwd()\n",
    "\n",
    "MESONET_DATA_URL = \"http://xmountwashington.appspot.com/mmNew.php?callback=null\"\n",
    "\n",
    "TARGET_DEM_URL = \"https://prd-tnm.s3.amazonaws.com/StagedProducts/Elevation/13/ArcGrid/USGS_NED_13_n45w072_ArcGrid.zip\"\n",
    "TARGET_DEM_FILE_ZIP = os.path.join(cwd, \"tmp/dem.zip\")\n",
    "TARGET_DEM_FILE_UNZIP = os.path.join(cwd, \"tmp/data/dem\")\n",
    "TARGET_DEM_DATA_FILE = os.path.join(TARGET_DEM_FILE_UNZIP, \"grdn45w072_13\", \"w001001.adf\")\n",
    "\n"
   ]
  },
  {
   "cell_type": "code",
   "execution_count": 4,
   "metadata": {},
   "outputs": [],
   "source": [
    "# Driver for downloading mesonet data and performing point calculations\n",
    "\n",
    "with urllib.request.urlopen(MESONET_DATA_URL) as response:\n",
    "    callback = response.read()\n",
    "json_string = callback.decode(\"utf8\").rstrip(')').lstrip('null(')\n",
    "mesonet_data = json.loads(json_string)\n",
    "df = make_item(mesonet_data['currentMesonetConditions'])\n",
    "get_potential_temperature(df)\n"
   ]
  },
  {
   "cell_type": "code",
   "execution_count": 5,
   "metadata": {},
   "outputs": [
    {
     "name": "stdout",
     "output_type": "stream",
     "text": [
      "Downloading file https://prd-tnm.s3.amazonaws.com/StagedProducts/Elevation/13/ArcGrid/USGS_NED_13_n45w072_ArcGrid.zip\n",
      "Path /external/mesonet-interpolation/temperature/tmp/dem.zip already exists; using previoiusly downloaded file.\n"
     ]
    }
   ],
   "source": [
    "# Driver for download and extraction of DEM data\n",
    "\n",
    "if download_file(TARGET_DEM_URL, TARGET_DEM_FILE_ZIP):\n",
    "    extract_file(TARGET_DEM_FILE_ZIP, TARGET_DEM_FILE_UNZIP)"
   ]
  },
  {
   "cell_type": "code",
   "execution_count": null,
   "metadata": {},
   "outputs": [
    {
     "name": "stdout",
     "output_type": "stream",
     "text": [
      "(17,)\n",
      "(17,)\n",
      "[7530, 7530, 7530, 7530, 7530, 7530, 7530, 7530, 7530, 7530, 7530, 7530, 7530, 7530, 7530, 7530, 7530]\n",
      "[7883, 7883, 7883, 7883, 7883, 7883, 7883, 7883, 7883, 7883, 7883, 7883, 7883, 7883, 7883, 7883, 7883]\n",
      "[[    0     1     2 ... 10809 10810 10811]\n",
      " [    0     1     2 ... 10809 10810 10811]\n",
      " [    0     1     2 ... 10809 10810 10811]\n",
      " ...\n",
      " [    0     1     2 ... 10809 10810 10811]\n",
      " [    0     1     2 ... 10809 10810 10811]\n",
      " [    0     1     2 ... 10809 10810 10811]]\n",
      "[[    0     0     0 ...     0     0     0]\n",
      " [    1     1     1 ...     1     1     1]\n",
      " [    2     2     2 ...     2     2     2]\n",
      " ...\n",
      " [10809 10809 10809 ... 10809 10809 10809]\n",
      " [10810 10810 10810 ... 10810 10810 10810]\n",
      " [10811 10811 10811 ... 10811 10811 10811]]\n",
      "(17,)\n"
     ]
    }
   ],
   "source": [
    "# Driver that combines mesonet and DEM data\n",
    "\n",
    "with rasterio.open(TARGET_DEM_DATA_FILE) as dem:\n",
    "    #dem_arr = dem.read()\n",
    "    x = np.arange(0,dem.width)\n",
    "    y = np.arange(0,dem.height)\n",
    "    X, Y = np.meshgrid(x,y)\n",
    "    # Make an array the same size as this array\n",
    "    #potential_temperature_arr = np.squeeze(np.empty_like(dem_arr))\n",
    "    \n",
    "    \n",
    "    x_pixels = []\n",
    "    y_pixels = []\n",
    "    values = []\n",
    "    \n",
    "    for i, row in df.iterrows():\n",
    "        site_y_pixel, site_x_pixel = dem.index(row[\"siteLon\"], row[\"siteLat\"])    \n",
    "        x_pixels.append(site_x_pixel)\n",
    "        y_pixels.append(site_y_pixel)\n",
    "        values.append(row[\"potential_temperature\"].magnitude)\n",
    "    print(np.asarray(x_pixels).shape)\n",
    "    print(np.asarray(y_pixels).shape)\n",
    "    print(x_pixels)\n",
    "    print(y_pixels)\n",
    "    print(X)\n",
    "    print(Y)\n",
    "    print(np.asarray(values).shape)\n",
    "    \n",
    "\n",
    "scipy.interpolate.griddata((np.asarray(x_pixels), np.asarray(y_pixels)), np.asarray(values), (X, Y), method=\"nearest\")\n",
    "\n"
   ]
  },
  {
   "cell_type": "code",
   "execution_count": null,
   "metadata": {},
   "outputs": [],
   "source": [
    "df['potential_temperature']"
   ]
  }
 ],
 "metadata": {
  "kernelspec": {
   "display_name": "Python 3",
   "language": "python",
   "name": "python3"
  },
  "language_info": {
   "codemirror_mode": {
    "name": "ipython",
    "version": 3
   },
   "file_extension": ".py",
   "mimetype": "text/x-python",
   "name": "python",
   "nbconvert_exporter": "python",
   "pygments_lexer": "ipython3",
   "version": "3.7.3"
  }
 },
 "nbformat": 4,
 "nbformat_minor": 2
}
