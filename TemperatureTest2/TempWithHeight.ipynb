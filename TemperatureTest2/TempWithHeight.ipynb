{
 "cells": [
  {
   "cell_type": "code",
   "execution_count": 38,
   "metadata": {
    "collapsed": true
   },
   "outputs": [],
   "source": [
    "%matplotlib inline"
   ]
  },
  {
   "cell_type": "code",
   "execution_count": 40,
   "metadata": {
    "collapsed": true
   },
   "outputs": [],
   "source": [
    "import urllib\n",
    "import json\n",
    "import pandas as pd\n",
    "import matplotlib.pyplot as plt"
   ]
  },
  {
   "cell_type": "code",
   "execution_count": 48,
   "metadata": {},
   "outputs": [],
   "source": [
    "\n",
    "def getData(data):\n",
    "    \"\"\"\n",
    "    This function will take the data extracted from the JSON and put it into a pandas dataframe\n",
    "    \n",
    "    Since all the data is coming from a JSON I have decided to grab lat and long every time, this will\n",
    "    help in the future if new mesonets are added to the system.\n",
    "    \"\"\"\n",
    "    \n",
    "    #creating empty dataframe\n",
    "    AllData = pd.DataFrame([], columns=('Station','Latitude','Longitude','Height','Temperature'))\n",
    "    \n",
    "    #loop for going through json. Station represents the only variable, mesonet name\n",
    "    for station in data['currentMesonetConditions']:\n",
    "        lat    = data['currentMesonetConditions'][station]['latitude']\n",
    "        lon    = data['currentMesonetConditions'][station]['longitude']\n",
    "        height = data['currentMesonetConditions'][station]['sitelevation']\n",
    "        temp   = data['currentMesonetConditions'][station]['temperature']\n",
    "        AllData = AllData.append({'Station':station,\n",
    "                                  'Latitude':float(lat),\n",
    "                                  'Longitude':float(lon),\n",
    "                                  'Height':int(height),\n",
    "                                  'Temperature':float(temp)},\n",
    "                                 ignore_index=True)\n",
    "        \n",
    "    return AllData"
   ]
  },
  {
   "cell_type": "code",
   "execution_count": 49,
   "metadata": {},
   "outputs": [],
   "source": [
    "with urllib.request.urlopen(\"http://xmountwashington.appspot.com/mesonet-feed.php?callback=1\") as url:\n",
    "    data = json.loads(url.read().decode())\n",
    "    \n",
    "MesoDataFrame = getData(data)\n",
    "mesoDataFrame = MesoDataFrame.sort_values(by=['Height'])"
   ]
  },
  {
   "cell_type": "code",
   "execution_count": 50,
   "metadata": {},
   "outputs": [
    {
     "data": {
      "text/plain": [
       "numpy.float64"
      ]
     },
     "execution_count": 50,
     "metadata": {},
     "output_type": "execute_result"
    }
   ],
   "source": [
    "type(mesoDataFrame.Temperature[0])"
   ]
  },
  {
   "cell_type": "code",
   "execution_count": 51,
   "metadata": {},
   "outputs": [
    {
     "data": {
      "text/plain": [
       "<matplotlib.collections.PathCollection at 0x2c27a728860>"
      ]
     },
     "execution_count": 51,
     "metadata": {},
     "output_type": "execute_result"
    },
    {
     "data": {
      "image/png": "[encoded data removed]",
      "text/plain": [
       "<Figure size 432x288 with 1 Axes>"
      ]
     },
     "metadata": {
      "needs_background": "light"
     },
     "output_type": "display_data"
    }
   ],
   "source": [
    "plt.scatter(MesoDataFrame.Height,MesoDataFrame.Temperature)"
   ]
  }
 ],
 "metadata": {
  "kernelspec": {
   "display_name": "Python [conda env:mesonetTemp]",
   "language": "python",
   "name": "conda-env-mesonetTemp-py"
  },
  "language_info": {
   "codemirror_mode": {
    "name": "ipython",
    "version": 3
   },
   "file_extension": ".py",
   "mimetype": "text/x-python",
   "name": "python",
   "nbconvert_exporter": "python",
   "pygments_lexer": "ipython3",
   "version": "3.6.5"
  }
 },
 "nbformat": 4,
 "nbformat_minor": 2
}
